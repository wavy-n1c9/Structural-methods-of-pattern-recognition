{
 "cells": [
  {
   "cell_type": "code",
   "execution_count": 1,
   "id": "d5182d4e",
   "metadata": {},
   "outputs": [],
   "source": [
    "import re\n",
    "with open('Chvarakoroliv_1409151389.txt', 'r', encoding='utf-8') as file:\n",
    "    text = file.read()\n",
    "    \n",
    "text=text.lower()\n",
    "text = re.sub(r'[^а-я]', '', text)\n",
    "\n",
    "bigrams = zip(text, text[1:])\n",
    "model = {}\n",
    "for bigram in bigrams:\n",
    "    bigram_str = ''.join(bigram)  \n",
    "    if bigram_str in model:\n",
    "        model[bigram_str] += 1\n",
    "    else:\n",
    "        model[bigram_str] = 1"
   ]
  },
  {
   "cell_type": "code",
   "execution_count": 2,
   "id": "eb51b997",
   "metadata": {},
   "outputs": [],
   "source": [
    "def plausibility(model, text):\n",
    "    probability = 1\n",
    "    \n",
    "    text=text.lower()\n",
    "    text = re.sub(r'[^а-я]', '', text)\n",
    "    \n",
    "    for i in range(len(text) - 1):\n",
    "        bigram = text[i:i+2]\n",
    "        if bigram in model:\n",
    "            probability *= model[bigram]\n",
    "            \n",
    "    \n",
    "    return probability ** (1/(len(text) - 1))"
   ]
  },
  {
   "cell_type": "code",
   "execution_count": 3,
   "id": "311b0f2a",
   "metadata": {},
   "outputs": [
    {
     "name": "stdout",
     "output_type": "stream",
     "text": [
      "fake_text 434.09949471599697\n",
      "default_text 4104.272450661368\n",
      "fake_smart_text 2710.189996283687\n"
     ]
    }
   ],
   "source": [
    "fake_text = \"ОРПорыав аоырОрпаыор ОрОРАыдцуцзущгкгеуб ыватьыивдцулвдлоадузцщ цхяь длваополц ыадолцлопиолым бамдлотдламда\"\n",
    "print(\"fake_text\",plausibility(model, fake_text))\n",
    "\n",
    "default_text = \"американська багатонаціональна корпорація та технологічна компанія, яка спеціалізується на онлайн-рекламі\"\n",
    "print(\"default_text\",plausibility(model, default_text))\n",
    "\n",
    "fake_smart_text = \"йцукен замаскований текст фразою\"\n",
    "print(\"fake_smart_text\",plausibility(model, fake_smart_text))"
   ]
  },
  {
   "cell_type": "code",
   "execution_count": null,
   "id": "9c0ff6f3",
   "metadata": {},
   "outputs": [],
   "source": []
  }
 ],
 "metadata": {
  "kernelspec": {
   "display_name": "Python 3 (ipykernel)",
   "language": "python",
   "name": "python3"
  },
  "language_info": {
   "codemirror_mode": {
    "name": "ipython",
    "version": 3
   },
   "file_extension": ".py",
   "mimetype": "text/x-python",
   "name": "python",
   "nbconvert_exporter": "python",
   "pygments_lexer": "ipython3",
   "version": "3.9.19"
  },
  "varInspector": {
   "cols": {
    "lenName": 16,
    "lenType": 16,
    "lenVar": 40
   },
   "kernels_config": {
    "python": {
     "delete_cmd_postfix": "",
     "delete_cmd_prefix": "del ",
     "library": "var_list.py",
     "varRefreshCmd": "print(var_dic_list())"
    },
    "r": {
     "delete_cmd_postfix": ") ",
     "delete_cmd_prefix": "rm(",
     "library": "var_list.r",
     "varRefreshCmd": "cat(var_dic_list()) "
    }
   },
   "types_to_exclude": [
    "module",
    "function",
    "builtin_function_or_method",
    "instance",
    "_Feature"
   ],
   "window_display": false
  }
 },
 "nbformat": 4,
 "nbformat_minor": 5
}
