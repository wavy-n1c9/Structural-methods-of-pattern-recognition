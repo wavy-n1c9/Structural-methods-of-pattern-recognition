{
 "cells": [
  {
   "cell_type": "code",
   "execution_count": 1,
   "id": "d5182d4e",
   "metadata": {},
   "outputs": [],
   "source": [
    "import re\n",
    "with open('Chvarakoroliv_1409151389.txt', 'r', encoding='utf-8') as file:\n",
    "    text = file.read()\n",
    "    \n",
    "text=text.lower()\n",
    "text = re.sub(r'[^а-я]', '', text)\n",
    "\n",
    "bigrams = zip(text, text[1:])\n",
    "model = {}\n",
    "for bigram in bigrams:\n",
    "    bigram_str = ''.join(bigram)  \n",
    "    if bigram_str in model:\n",
    "        model[bigram_str] += 1\n",
    "    else:\n",
    "        model[bigram_str] = 1"
   ]
  },
  {
   "cell_type": "code",
   "execution_count": 2,
   "id": "eb51b997",
   "metadata": {},
   "outputs": [],
   "source": [
    "def plausibility(model, text):\n",
    "    probability = 1\n",
    "    \n",
    "    text=text.lower()\n",
    "    text = re.sub(r'[^а-я]', '', text)\n",
    "    \n",
    "    for i in range(len(text) - 1):\n",
    "        bigram = text[i:i+2]\n",
    "        if bigram in model:\n",
    "            probability *= model[bigram]\n",
    "            \n",
    "    \n",
    "    return probability ** (1/(len(text) - 1))"
   ]
  },
  {
   "cell_type": "code",
   "execution_count": 4,
   "id": "311b0f2a",
   "metadata": {},
   "outputs": [
    {
     "name": "stdout",
     "output_type": "stream",
     "text": [
      "fake_text 434.09949471599697\n"
     ]
    },
    {
     "ename": "OverflowError",
     "evalue": "int too large to convert to float",
     "output_type": "error",
     "traceback": [
      "\u001b[1;31m---------------------------------------------------------------------------\u001b[0m",
      "\u001b[1;31mOverflowError\u001b[0m                             Traceback (most recent call last)",
      "\u001b[1;32m~\\AppData\\Local\\Temp\\ipykernel_7248\\3852594974.py\u001b[0m in \u001b[0;36m<module>\u001b[1;34m\u001b[0m\n\u001b[0;32m      3\u001b[0m \u001b[1;33m\u001b[0m\u001b[0m\n\u001b[0;32m      4\u001b[0m \u001b[0mdefault_text\u001b[0m \u001b[1;33m=\u001b[0m \u001b[1;34m\"Google LLC — це американська багатонаціональна корпорація та технологічна компанія, яка спеціалізується на онлайн-рекламі, технологіях пошукових систем, хмарних обчисленнях, комп’ютерному програмному забезпеченні, квантових обчисленнях, електронній комерції, побутовій електроніці та штучному інтелекті.\"\u001b[0m\u001b[1;33m\u001b[0m\u001b[1;33m\u001b[0m\u001b[0m\n\u001b[1;32m----> 5\u001b[1;33m \u001b[0mprint\u001b[0m\u001b[1;33m(\u001b[0m\u001b[1;34m\"default_text\"\u001b[0m\u001b[1;33m,\u001b[0m\u001b[0mplausibility\u001b[0m\u001b[1;33m(\u001b[0m\u001b[0mmodel\u001b[0m\u001b[1;33m,\u001b[0m \u001b[0mdefault_text\u001b[0m\u001b[1;33m)\u001b[0m\u001b[1;33m)\u001b[0m\u001b[1;33m\u001b[0m\u001b[1;33m\u001b[0m\u001b[0m\n\u001b[0m\u001b[0;32m      6\u001b[0m \u001b[1;33m\u001b[0m\u001b[0m\n\u001b[0;32m      7\u001b[0m \u001b[0mfake_smart_text\u001b[0m \u001b[1;33m=\u001b[0m \u001b[1;34m\"йцукен замаскований текст фразою\"\u001b[0m\u001b[1;33m\u001b[0m\u001b[1;33m\u001b[0m\u001b[0m\n",
      "\u001b[1;32m~\\AppData\\Local\\Temp\\ipykernel_7248\\2301013666.py\u001b[0m in \u001b[0;36mplausibility\u001b[1;34m(model, text)\u001b[0m\n\u001b[0;32m     11\u001b[0m \u001b[1;33m\u001b[0m\u001b[0m\n\u001b[0;32m     12\u001b[0m \u001b[1;33m\u001b[0m\u001b[0m\n\u001b[1;32m---> 13\u001b[1;33m     \u001b[1;32mreturn\u001b[0m \u001b[0mprobability\u001b[0m \u001b[1;33m**\u001b[0m \u001b[1;33m(\u001b[0m\u001b[1;36m1\u001b[0m\u001b[1;33m/\u001b[0m\u001b[1;33m(\u001b[0m\u001b[0mlen\u001b[0m\u001b[1;33m(\u001b[0m\u001b[0mtext\u001b[0m\u001b[1;33m)\u001b[0m \u001b[1;33m-\u001b[0m \u001b[1;36m1\u001b[0m\u001b[1;33m)\u001b[0m\u001b[1;33m)\u001b[0m\u001b[1;33m\u001b[0m\u001b[1;33m\u001b[0m\u001b[0m\n\u001b[0m",
      "\u001b[1;31mOverflowError\u001b[0m: int too large to convert to float"
     ]
    }
   ],
   "source": [
    "fake_text = \"ОРПорыав аоырОрпаыор ОрОРАыдцуцзущгкгеуб ыватьыивдцулвдлоадузцщ цхяь длваополц ыадолцлопиолым бамдлотдламда\"\n",
    "print(\"fake_text\",plausibility(model, fake_text))\n",
    "\n",
    "default_text = \"Google LLC — це американська багатонаціональна корпорація та технологічна компанія, яка спеціалізується на онлайн-рекламі, технологіях пошукових систем, хмарних обчисленнях, комп’ютерному програмному забезпеченні, квантових обчисленнях, електронній комерції, побутовій електроніці та штучному інтелекті.\"\n",
    "print(\"default_text\",plausibility(model, default_text))\n",
    "\n",
    "fake_smart_text = \"йцукен замаскований текст фразою\"\n",
    "print(\"fake_smart_text\",plausibility(model, fake_smart_text))"
   ]
  },
  {
   "cell_type": "code",
   "execution_count": null,
   "id": "709b0881",
   "metadata": {},
   "outputs": [],
   "source": []
  }
 ],
 "metadata": {
  "kernelspec": {
   "display_name": "Python 3 (ipykernel)",
   "language": "python",
   "name": "python3"
  },
  "language_info": {
   "codemirror_mode": {
    "name": "ipython",
    "version": 3
   },
   "file_extension": ".py",
   "mimetype": "text/x-python",
   "name": "python",
   "nbconvert_exporter": "python",
   "pygments_lexer": "ipython3",
   "version": "3.9.19"
  },
  "varInspector": {
   "cols": {
    "lenName": 16,
    "lenType": 16,
    "lenVar": 40
   },
   "kernels_config": {
    "python": {
     "delete_cmd_postfix": "",
     "delete_cmd_prefix": "del ",
     "library": "var_list.py",
     "varRefreshCmd": "print(var_dic_list())"
    },
    "r": {
     "delete_cmd_postfix": ") ",
     "delete_cmd_prefix": "rm(",
     "library": "var_list.r",
     "varRefreshCmd": "cat(var_dic_list()) "
    }
   },
   "types_to_exclude": [
    "module",
    "function",
    "builtin_function_or_method",
    "instance",
    "_Feature"
   ],
   "window_display": false
  }
 },
 "nbformat": 4,
 "nbformat_minor": 5
}
