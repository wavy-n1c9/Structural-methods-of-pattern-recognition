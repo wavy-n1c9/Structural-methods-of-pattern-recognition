{
 "cells": [
  {
   "cell_type": "markdown",
   "id": "fe0a0468",
   "metadata": {},
   "source": [
    "## Prac 06.2\n",
    "\n",
    "In this homework, you are going to use and compare two different trackers (of your liking) and compare the results."
   ]
  },
  {
   "cell_type": "markdown",
   "id": "574dad77",
   "metadata": {},
   "source": [
    "### Step 1\n",
    "Decide what video you are going to use for this homework, select an object and generate the template. You can use any video you want (your own, from Youtube, etc.)\n",
    "and track any object you want (e.g. a car, a pedestrian, etc.)."
   ]
  },
  {
   "cell_type": "code",
   "execution_count": 1,
   "id": "36358bac",
   "metadata": {},
   "outputs": [],
   "source": [
    "import cv2\n",
    "video = cv2.VideoCapture(\"highway_cars_tiny.mp4\")"
   ]
  },
  {
   "cell_type": "markdown",
   "id": "8e9d2f76",
   "metadata": {},
   "source": [
    "### Step 2\n",
    "Initialize a tracker (e.g. KCF)."
   ]
  },
  {
   "cell_type": "code",
   "execution_count": 2,
   "id": "dd17e562",
   "metadata": {},
   "outputs": [],
   "source": [
    "tracker_kcf = cv2.TrackerKCF_create()"
   ]
  },
  {
   "cell_type": "markdown",
   "id": "56833627",
   "metadata": {},
   "source": [
    "### Step 3\n",
    "Run the tracker on the video and the selected object. Run the tracker for around 10-15 frames.\n"
   ]
  },
  {
   "cell_type": "code",
   "execution_count": null,
   "id": "b3937d9e",
   "metadata": {},
   "outputs": [],
   "source": [
    "ret, frame = video.read()\n",
    "if not ret:\n",
    "    print(\"Can't receive frame. Exiting ...\" )\n",
    "else:\n",
    "    bb = cv2.selectROI(frame)"
   ]
  },
  {
   "cell_type": "markdown",
   "id": "2f329ad1",
   "metadata": {},
   "source": [
    "### Step 4\n",
    "For each frame, print the bounding box on the image and save it."
   ]
  },
  {
   "cell_type": "code",
   "execution_count": 6,
   "id": "d2c5f566",
   "metadata": {},
   "outputs": [],
   "source": [
    "tracker = tracker_kcf.init(frame, bb)\n",
    "\n",
    "for i in range(20):\n",
    "    ret, frame = video.read()\n",
    "    tracker, bb = tracker_kcf.update(frame)\n",
    "    if tracker:\n",
    "        p1 = (int(bb[0]), int(bb[1]))\n",
    "        p2 = (int(bb[0] + bb[2]), int(bb[1] + bb[3]))\n",
    "        cv2.rectangle(frame, p1, p2, (255,0,0), 2, 1)\n",
    "        cv2.imshow(\"Tracking\", frame)\n",
    "        cv2.waitKey(0)"
   ]
  },
  {
   "cell_type": "markdown",
   "id": "26d73eb8",
   "metadata": {},
   "source": [
    "### Step 5\n",
    "Select a different tracker (e.g. CSRT) and repeat steps 2, 3 and 4."
   ]
  },
  {
   "cell_type": "code",
   "execution_count": 3,
   "id": "468c5eed",
   "metadata": {},
   "outputs": [],
   "source": [
    "import cv2\n",
    "video = cv2.VideoCapture(\"highway_cars_tiny.mp4\")\n",
    "tracker_csrt = cv2.TrackerCSRT_create()"
   ]
  },
  {
   "cell_type": "code",
   "execution_count": 4,
   "id": "c753fe28",
   "metadata": {},
   "outputs": [],
   "source": [
    "ret, frame = video.read()\n",
    "if not ret:\n",
    "    print(\"Can't receive frame. Exiting ...\" )\n",
    "else:\n",
    "    bb = cv2.selectROI(frame)"
   ]
  },
  {
   "cell_type": "code",
   "execution_count": 6,
   "id": "064bbc8e",
   "metadata": {},
   "outputs": [],
   "source": [
    "tracker = tracker_csrt.init(frame, bb)\n",
    "\n",
    "for i in range(20):\n",
    "    ret, frame = video.read()\n",
    "    tracker, bb = tracker_csrt.update(frame)\n",
    "    if tracker:\n",
    "        p1 = (int(bb[0]), int(bb[1]))\n",
    "        p2 = (int(bb[0] + bb[2]), int(bb[1] + bb[3]))\n",
    "        cv2.rectangle(frame, p1, p2, (255,0,0), 2, 1)\n",
    "        cv2.imshow(\"Tracking\", frame)\n",
    "        cv2.waitKey(0)"
   ]
  },
  {
   "cell_type": "markdown",
   "id": "a9310f82",
   "metadata": {},
   "source": [
    "### Step 6\n",
    "Compare the results:\n",
    "* Do you see any differences? If so, what are they?\n",
    "* Does one tracker perform better than the other? In what way?\n"
   ]
  }
 ],
 "metadata": {
  "kernelspec": {
   "display_name": "Python 3 (ipykernel)",
   "language": "python",
   "name": "python3"
  },
  "language_info": {
   "codemirror_mode": {
    "name": "ipython",
    "version": 3
   },
   "file_extension": ".py",
   "mimetype": "text/x-python",
   "name": "python",
   "nbconvert_exporter": "python",
   "pygments_lexer": "ipython3",
   "version": "3.9.19"
  },
  "varInspector": {
   "cols": {
    "lenName": 16,
    "lenType": 16,
    "lenVar": 40
   },
   "kernels_config": {
    "python": {
     "delete_cmd_postfix": "",
     "delete_cmd_prefix": "del ",
     "library": "var_list.py",
     "varRefreshCmd": "print(var_dic_list())"
    },
    "r": {
     "delete_cmd_postfix": ") ",
     "delete_cmd_prefix": "rm(",
     "library": "var_list.r",
     "varRefreshCmd": "cat(var_dic_list()) "
    }
   },
   "types_to_exclude": [
    "module",
    "function",
    "builtin_function_or_method",
    "instance",
    "_Feature"
   ],
   "window_display": false
  }
 },
 "nbformat": 4,
 "nbformat_minor": 5
}
