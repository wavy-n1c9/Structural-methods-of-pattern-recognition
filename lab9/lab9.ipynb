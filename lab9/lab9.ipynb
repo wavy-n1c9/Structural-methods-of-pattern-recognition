{
 "cells": [
  {
   "cell_type": "code",
   "execution_count": 1,
   "id": "fa346edd",
   "metadata": {},
   "outputs": [],
   "source": [
    "import numpy as np\n",
    "from scipy.sparse.linalg import spsolve\n",
    "from scipy.sparse import csc_matrix\n",
    "import matplotlib.pyplot as plt\n",
    "import cv2\n",
    " \n"
   ]
  },
  {
   "cell_type": "code",
   "execution_count": 2,
   "id": "17f7fa97",
   "metadata": {},
   "outputs": [],
   "source": [
    "def matrix_n_vect(grad_field):\n",
    "\n",
    "    h, w = grad_field.shape\n",
    "\n",
    "    # Визначаємо матрицю A та вектор b для системи лінійних рівнянь Ax = b\n",
    "    A = np.zeros((h*w, h*w))\n",
    "    b = np.zeros(h*w)\n",
    "\n",
    "    # Заповнюємо матрицю A та вектор b\n",
    "    for i in range(h):\n",
    "        for j in range(w):\n",
    "            k = i*w + j \n",
    "\n",
    "            # Для кожної точки зображення додаємо відповідні рівняння до системи\n",
    "            if i > 0:\n",
    "                A[k, k] += 1\n",
    "                A[k, k-w] -= 1\n",
    "                b[k] += grad_field[i-1, j]\n",
    "            if i < h-1:\n",
    "                A[k, k] += 1\n",
    "                A[k, k+w] -= 1\n",
    "                b[k] -= grad_field[i, j]\n",
    "            if j > 0:\n",
    "                A[k, k] += 1\n",
    "                A[k, k-1] -= 1\n",
    "                b[k] += grad_field[i, j-1]\n",
    "            if j < w-1:\n",
    "                A[k, k] += 1\n",
    "                A[k, k+1] -= 1\n",
    "                b[k] -= grad_field[i, j]\n",
    "    \n",
    "    return A, b"
   ]
  },
  {
   "cell_type": "code",
   "execution_count": 3,
   "id": "26da8a04",
   "metadata": {},
   "outputs": [],
   "source": [
    "def zeidel(a, b, eps=1e-10, max_iter=1000):\n",
    "    m = len(b)\n",
    "    x = np.zeros(m)\n",
    "    iteration = 0\n",
    "    while iteration < max_iter:\n",
    "        x_new = np.copy(x)\n",
    "        for i in range(m):\n",
    "            s1 = np.dot(a[i][:i], x_new[:i])\n",
    "            s2 = np.dot(a[i][i+1:], x[i+1:])\n",
    "            x_new[i] = (b[i] - s1 - s2) / a[i][i]\n",
    "        p = np.max(np.abs(x_new - x))\n",
    "        iteration += 1\n",
    "        x = x_new\n",
    "        if p <= eps:\n",
    "            break\n",
    "    return x, iteration, p\n"
   ]
  },
  {
   "cell_type": "code",
   "execution_count": 4,
   "id": "9d20291f",
   "metadata": {},
   "outputs": [],
   "source": [
    "import numpy as np\n",
    "import matplotlib.pyplot as plt\n",
    "\n",
    "\n",
    "image = cv2.imread('50x50_logo.png', cv2.IMREAD_GRAYSCALE)\n",
    "\n",
    "\n",
    "grad_x = np.gradient(image)[0]\n",
    "grad_y = np.gradient(image)[1]\n",
    "grad_field = np.sqrt(grad_x**2 + grad_y**2)\n",
    "\n",
    "h, w = grad_field.shape"
   ]
  },
  {
   "cell_type": "code",
   "execution_count": 9,
   "id": "16e4cf4e",
   "metadata": {},
   "outputs": [
    {
     "data": {
      "text/plain": [
       "<matplotlib.image.AxesImage at 0x17c54319040>"
      ]
     },
     "execution_count": 9,
     "metadata": {},
     "output_type": "execute_result"
    },
    {
     "data": {
      "image/png": "[encoded data removed]",
      "text/plain": [
       "<Figure size 640x480 with 1 Axes>"
      ]
     },
     "metadata": {},
     "output_type": "display_data"
    }
   ],
   "source": [
    "plt.imshow(image, cmap='gray')"
   ]
  },
  {
   "cell_type": "code",
   "execution_count": 5,
   "id": "8fcb9f02",
   "metadata": {},
   "outputs": [],
   "source": [
    "a,b = matrix_n_vect(grad_field)"
   ]
  },
  {
   "cell_type": "code",
   "execution_count": 6,
   "id": "8330b96b",
   "metadata": {
    "scrolled": false
   },
   "outputs": [
    {
     "name": "stdout",
     "output_type": "stream",
     "text": [
      "Wall time: 16.5 s\n"
     ]
    }
   ],
   "source": [
    "%%time\n",
    "x_zeidel,it,p = zeidel(a,b)\n",
    "\n",
    "x_zeidel=x_zeidel.reshape(h, w)"
   ]
  },
  {
   "cell_type": "code",
   "execution_count": 7,
   "id": "ae1dc6b1",
   "metadata": {},
   "outputs": [
    {
     "name": "stdout",
     "output_type": "stream",
     "text": [
      "Wall time: 54 ms\n"
     ]
    }
   ],
   "source": [
    "%%time\n",
    "x_spsolve = spsolve(csc_matrix(a),b).reshape(h, w)"
   ]
  },
  {
   "cell_type": "code",
   "execution_count": 8,
   "id": "7c24f583",
   "metadata": {
    "scrolled": false
   },
   "outputs": [
    {
     "data": {
      "image/png": "[encoded data removed]",
      "text/plain": [
       "<Figure size 1000x500 with 2 Axes>"
      ]
     },
     "metadata": {},
     "output_type": "display_data"
    }
   ],
   "source": [
    "plt.figure(figsize=(10, 5))\n",
    "plt.subplot(1, 2, 1)\n",
    "plt.imshow(x_zeidel, cmap='gray')\n",
    "plt.title('x_zeidel')\n",
    "plt.axis('off')\n",
    "plt.subplot(1, 2, 2)\n",
    "plt.imshow(x_spsolve, cmap='gray')\n",
    "plt.title('x_spsolve')\n",
    "plt.axis('off')\n",
    "plt.show()"
   ]
  }
 ],
 "metadata": {
  "kernelspec": {
   "display_name": "Python 3 (ipykernel)",
   "language": "python",
   "name": "python3"
  },
  "language_info": {
   "codemirror_mode": {
    "name": "ipython",
    "version": 3
   },
   "file_extension": ".py",
   "mimetype": "text/x-python",
   "name": "python",
   "nbconvert_exporter": "python",
   "pygments_lexer": "ipython3",
   "version": "3.9.19"
  },
  "varInspector": {
   "cols": {
    "lenName": 16,
    "lenType": 16,
    "lenVar": 40
   },
   "kernels_config": {
    "python": {
     "delete_cmd_postfix": "",
     "delete_cmd_prefix": "del ",
     "library": "var_list.py",
     "varRefreshCmd": "print(var_dic_list())"
    },
    "r": {
     "delete_cmd_postfix": ") ",
     "delete_cmd_prefix": "rm(",
     "library": "var_list.r",
     "varRefreshCmd": "cat(var_dic_list()) "
    }
   },
   "types_to_exclude": [
    "module",
    "function",
    "builtin_function_or_method",
    "instance",
    "_Feature"
   ],
   "window_display": false
  }
 },
 "nbformat": 4,
 "nbformat_minor": 5
}
